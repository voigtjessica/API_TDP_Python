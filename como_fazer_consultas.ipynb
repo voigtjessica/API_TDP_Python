{
 "cells": [
  {
   "cell_type": "markdown",
   "metadata": {},
   "source": [
    "# Funções para consultas automáticas da API do Prjeto Tá de Pé em Python\n",
    "\n",
    "A seguir, apresento funções para a consulta da API do Tá de Pé e para armazenar os dados em um dataframe.\n",
    "\n",
    "## Obtendo autorização\n",
    "\n",
    "A API do TDP exige um token de autorização. Você obtem esse token na documentação da API do TDP. Na documentação vá em Autorização >> Obter token e clique em Auths. Veja se o menu esquerdo está como Console e vá em Call Resource. Desça a tela até Response Body e pegue o código que aparece depois de token, que será algo como \"Bearer yy...\". Copie esse token, ele será necessário para executar os comandos no R.\n",
    "\n",
    "## Setando URL\n",
    "\n",
    "A Url vai estimar o tipo de consultas que queremos ter. Para mais informações sobre o que é cada uma das consultas, acesse a documentação da API em https://tadepe.docs.apiary.io/ .\n",
    "\n",
    "A URL é o tipo de consulta que queremos fazer:"
   ]
  },
  {
   "cell_type": "code",
   "execution_count": null,
   "metadata": {},
   "outputs": [],
   "source": [
    "import requests\n",
    "import json\n",
    "import pandas as pd\n",
    "from pandas.io.json import json_normalize"
   ]
  },
  {
   "cell_type": "code",
   "execution_count": 2,
   "metadata": {},
   "outputs": [],
   "source": [
    "# Obter obras:\n",
    "obter_obras = 'http://tadepe.transparencia.org.br/api/projects/content?page='\n",
    "\n",
    "# Obter contatos:\n",
    "obter_contatos = 'http://tadepe.transparencia.org.br/api/contacts/content?page='\n",
    "\n",
    "# Obter alertas:\n",
    "obter_alertas = 'http://tadepe.transparencia.org.br/api/inspections/content?page='\n",
    "\n",
    "# Obter evidências:\n",
    "obter_evidencias = 'http://tadepe.transparencia.org.br/api/evidences/content?page='\n",
    "\n",
    "# Obter instituições:\n",
    "obter_instituicoes = 'http://tadepe.transparencia.org.br/api/institutions/content?page='\n",
    "\n",
    "# Obter mensagens:\n",
    "obter_mensagens = 'http://tadepe.transparencia.org.br/api/messages/content?page='\n",
    "\n",
    "# Obter respostas:\n",
    "obter_respostas = 'http://tadepe.transparencia.org.br/api/answers/content?page='"
   ]
  },
  {
   "cell_type": "markdown",
   "metadata": {},
   "source": [
    "## Função para obter todas as respostas de uma requisição:"
   ]
  },
  {
   "cell_type": "code",
   "execution_count": 3,
   "metadata": {},
   "outputs": [],
   "source": [
    "def fetch_api(url, token, pg = 1):\n",
    "    nextpage = True\n",
    "    headers = {\"Authorization\": token}\n",
    "    a = list()\n",
    "    while nextpage:\n",
    "        base_url = url + str(pg)\n",
    "        r = requests.get(base_url, headers=headers).json()\n",
    "        b = r.get('data')\n",
    "        a = a + b\n",
    "        nextpage = r.get('links').get('next')\n",
    "        pg = pg + 1\n",
    "    \n",
    "    return a"
   ]
  },
  {
   "cell_type": "markdown",
   "metadata": {},
   "source": [
    "Exemplo de uso:"
   ]
  },
  {
   "cell_type": "code",
   "execution_count": null,
   "metadata": {},
   "outputs": [],
   "source": [
    "token = 'token obtido'\n",
    "\n",
    "lista_result = fetch_api(url = obter_alertas, token = token)"
   ]
  },
  {
   "cell_type": "markdown",
   "metadata": {},
   "source": [
    "## Transformando a lista resultante em um dataframe:"
   ]
  },
  {
   "cell_type": "code",
   "execution_count": null,
   "metadata": {},
   "outputs": [],
   "source": [
    "def result_to_df(lista):\n",
    "    c = lista[1]['attributes'].keys()\n",
    "    df_int = pd.DataFrame(columns = column_names)\n",
    "    for elemento in range(1,len(lista)):\n",
    "        x = lista[elemento]['attributes']\n",
    "        x = pd.DataFrame(x, index=[0])\n",
    "        df_int = df_int.append(x)\n",
    "    return df_int"
   ]
  },
  {
   "cell_type": "markdown",
   "metadata": {},
   "source": [
    "Exemplo de uso:"
   ]
  },
  {
   "cell_type": "code",
   "execution_count": null,
   "metadata": {},
   "outputs": [],
   "source": [
    "df = result_to_df(lista = lista_result)"
   ]
  }
 ],
 "metadata": {
  "kernelspec": {
   "display_name": "Python 3",
   "language": "python",
   "name": "python3"
  },
  "language_info": {
   "codemirror_mode": {
    "name": "ipython",
    "version": 3
   },
   "file_extension": ".py",
   "mimetype": "text/x-python",
   "name": "python",
   "nbconvert_exporter": "python",
   "pygments_lexer": "ipython3",
   "version": "3.7.3"
  }
 },
 "nbformat": 4,
 "nbformat_minor": 2
}
